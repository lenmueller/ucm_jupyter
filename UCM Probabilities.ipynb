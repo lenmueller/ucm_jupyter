{
 "cells": [
  {
   "cell_type": "code",
   "execution_count": 1,
   "metadata": {},
   "outputs": [],
   "source": [
    "import numpy as np\n",
    "from scipy.special import beta, hyp2f1\n",
    "\n",
    "def ucm(dof, r):\n",
    "    term1 = dof / (2 * (dof - 2) * r**2)\n",
    "    term2 = 1 / ((2 + dof) * beta(dof/2, dof/2)) * r**(dof/2 - 1) * hyp2f1(dof, dof/2 + 1, dof/2 + 2, -r)\n",
    "    term3 = 1 / ((dof - 2) * beta(dof/2, dof/2)) * r**(dof/2 - 1) * hyp2f1(dof, dof/2 - 1, dof/2, -r)\n",
    "    \n",
    "    return (term1 - term2) / (term1 - term2 + term3)\n",
    "\n",
    "def Prob(dof, R):\n",
    "    u = ucm(dof, R)\n",
    "    return u / (1 - u)\n",
    "\n",
    "def ProbList(dof, cslist):\n",
    "    min_value = np.min(cslist)\n",
    "    ratio = np.array(cslist) / min_value\n",
    "    probs = np.array([Prob(dof, r) for r in ratio])\n",
    "    sum_probs = np.sum(probs)\n",
    "    return probs / sum_probs"
   ]
  },
  {
   "cell_type": "code",
   "execution_count": 3,
   "metadata": {},
   "outputs": [
    {
     "name": "stdout",
     "output_type": "stream",
     "text": [
      "Probabilities list:\n",
      "Model 1: 0.464\n",
      "Model 2: 0.154\n",
      "Model 3: 0.090\n",
      "Model 4: 0.076\n",
      "Model 5: 0.063\n",
      "Model 6: 0.054\n",
      "Model 7: 0.029\n",
      "Model 8: 0.027\n",
      "Model 9: 0.023\n",
      "Model 10: 0.021\n"
     ]
    }
   ],
   "source": [
    "# Calculate UCM probabilities\n",
    "# dof = degrees of freedom\n",
    "# cslist = list of reduced chi-squared values\n",
    "#\n",
    "dof = 10\n",
    "cslist = [1.87, 2.6, 3.04, 3.19, 3.35, 3.51, 4.14, 4.23, 4.39, 14.49]\n",
    "\n",
    "prob_list = ProbList(dof, cslist)\n",
    "\n",
    "print(\"Probabilities list:\")\n",
    "for index, prob in enumerate(prob_list, start=1):  # start=1 makes the enumeration start at 1\n",
    "    print(f\"Model {index}: {prob:.3f}\")"
   ]
  },
  {
   "cell_type": "code",
   "execution_count": null,
   "metadata": {},
   "outputs": [],
   "source": []
  }
 ],
 "metadata": {
  "kernelspec": {
   "display_name": "Python 3",
   "language": "python",
   "name": "python3"
  },
  "language_info": {
   "codemirror_mode": {
    "name": "ipython",
    "version": 3
   },
   "file_extension": ".py",
   "mimetype": "text/x-python",
   "name": "python",
   "nbconvert_exporter": "python",
   "pygments_lexer": "ipython3",
   "version": "3.8.3"
  }
 },
 "nbformat": 4,
 "nbformat_minor": 4
}
